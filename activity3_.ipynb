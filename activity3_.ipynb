{
 "cells": [
  {
   "cell_type": "markdown",
   "id": "5fe51f87-774b-400a-af1f-0ca70c5ad0f4",
   "metadata": {},
   "source": [
    "<h1> Project: United Kingdom Road Accident Data Analysis</h1>\n",
    "<h2> Inclusive Years: 2019-2022</h2>\n",
    "<h2> Analyst: Eben Jalyn Apolinario</h2>"
   ]
  },
  {
   "cell_type": "code",
   "execution_count": 1,
   "id": "50c47dd9-f92c-4d88-aaa8-3be71e31e987",
   "metadata": {},
   "outputs": [],
   "source": [
    "import numpy as np \n",
    "import pandas as pd\n",
    "import matplotlib.pyplot as plt\n",
    "import seaborn as sns\n",
    "import warnings\n",
    "warnings.filterwarnings('ignore')\n",
    "from scipy.stats import f_oneway"
   ]
  },
  {
   "cell_type": "code",
   "execution_count": 2,
   "id": "82299955-1beb-4fc5-8f5c-4c2489150f92",
   "metadata": {},
   "outputs": [],
   "source": [
    "accident = pd.read_csv('dataset\\\\accident_data.csv')                        "
   ]
  },
  {
   "cell_type": "code",
   "execution_count": 3,
   "id": "73f80ced-0154-4d17-abf9-62b7ee782a23",
   "metadata": {},
   "outputs": [],
   "source": [
    "accident = pd.read_csv('dataset\\\\accident_data.csv')                        "
   ]
  },
  {
   "cell_type": "code",
   "execution_count": 4,
   "id": "57173b2b-2cd2-40b8-9e8c-c6db25b692ab",
   "metadata": {},
   "outputs": [
    {
     "data": {
      "text/html": [
       "<div>\n",
       "<style scoped>\n",
       "    .dataframe tbody tr th:only-of-type {\n",
       "        vertical-align: middle;\n",
       "    }\n",
       "\n",
       "    .dataframe tbody tr th {\n",
       "        vertical-align: top;\n",
       "    }\n",
       "\n",
       "    .dataframe thead th {\n",
       "        text-align: right;\n",
       "    }\n",
       "</style>\n",
       "<table border=\"1\" class=\"dataframe\">\n",
       "  <thead>\n",
       "    <tr style=\"text-align: right;\">\n",
       "      <th></th>\n",
       "      <th>Index</th>\n",
       "      <th>Accident_Severity</th>\n",
       "      <th>Accident Date</th>\n",
       "      <th>Latitude</th>\n",
       "      <th>Light_Conditions</th>\n",
       "      <th>District Area</th>\n",
       "      <th>Longitude</th>\n",
       "      <th>Number_of_Casualties</th>\n",
       "      <th>Number_of_Vehicles</th>\n",
       "      <th>Road_Surface_Conditions</th>\n",
       "      <th>Road_Type</th>\n",
       "      <th>Urban_or_Rural_Area</th>\n",
       "      <th>Weather_Conditions</th>\n",
       "      <th>Vehicle_Type</th>\n",
       "    </tr>\n",
       "  </thead>\n",
       "  <tbody>\n",
       "    <tr>\n",
       "      <th>0</th>\n",
       "      <td>200701BS64157</td>\n",
       "      <td>Serious</td>\n",
       "      <td>05/06/2019</td>\n",
       "      <td>51.506187</td>\n",
       "      <td>Darkness - lights lit</td>\n",
       "      <td>Kensington and Chelsea</td>\n",
       "      <td>-0.209082</td>\n",
       "      <td>1</td>\n",
       "      <td>2</td>\n",
       "      <td>Dry</td>\n",
       "      <td>Single carriageway</td>\n",
       "      <td>Urban</td>\n",
       "      <td>Fine no high winds</td>\n",
       "      <td>Car</td>\n",
       "    </tr>\n",
       "    <tr>\n",
       "      <th>1</th>\n",
       "      <td>200701BS65737</td>\n",
       "      <td>Serious</td>\n",
       "      <td>02/07/2019</td>\n",
       "      <td>51.495029</td>\n",
       "      <td>Daylight</td>\n",
       "      <td>Kensington and Chelsea</td>\n",
       "      <td>-0.173647</td>\n",
       "      <td>1</td>\n",
       "      <td>2</td>\n",
       "      <td>Wet or damp</td>\n",
       "      <td>Single carriageway</td>\n",
       "      <td>Urban</td>\n",
       "      <td>Raining no high winds</td>\n",
       "      <td>Car</td>\n",
       "    </tr>\n",
       "    <tr>\n",
       "      <th>2</th>\n",
       "      <td>200701BS66127</td>\n",
       "      <td>Serious</td>\n",
       "      <td>26/08/2019</td>\n",
       "      <td>51.517715</td>\n",
       "      <td>Darkness - lighting unknown</td>\n",
       "      <td>Kensington and Chelsea</td>\n",
       "      <td>-0.210215</td>\n",
       "      <td>1</td>\n",
       "      <td>3</td>\n",
       "      <td>Dry</td>\n",
       "      <td>NaN</td>\n",
       "      <td>Urban</td>\n",
       "      <td>NaN</td>\n",
       "      <td>Taxi/Private hire car</td>\n",
       "    </tr>\n",
       "    <tr>\n",
       "      <th>3</th>\n",
       "      <td>200701BS66128</td>\n",
       "      <td>Serious</td>\n",
       "      <td>16/08/2019</td>\n",
       "      <td>51.495478</td>\n",
       "      <td>Daylight</td>\n",
       "      <td>Kensington and Chelsea</td>\n",
       "      <td>-0.202731</td>\n",
       "      <td>1</td>\n",
       "      <td>4</td>\n",
       "      <td>Dry</td>\n",
       "      <td>Single carriageway</td>\n",
       "      <td>Urban</td>\n",
       "      <td>Fine no high winds</td>\n",
       "      <td>Bus or coach (17 or more pass seats)</td>\n",
       "    </tr>\n",
       "    <tr>\n",
       "      <th>4</th>\n",
       "      <td>200701BS66837</td>\n",
       "      <td>Slight</td>\n",
       "      <td>03/09/2019</td>\n",
       "      <td>51.488576</td>\n",
       "      <td>Darkness - lights lit</td>\n",
       "      <td>Kensington and Chelsea</td>\n",
       "      <td>-0.192487</td>\n",
       "      <td>1</td>\n",
       "      <td>2</td>\n",
       "      <td>Dry</td>\n",
       "      <td>NaN</td>\n",
       "      <td>Urban</td>\n",
       "      <td>NaN</td>\n",
       "      <td>Other vehicle</td>\n",
       "    </tr>\n",
       "    <tr>\n",
       "      <th>...</th>\n",
       "      <td>...</td>\n",
       "      <td>...</td>\n",
       "      <td>...</td>\n",
       "      <td>...</td>\n",
       "      <td>...</td>\n",
       "      <td>...</td>\n",
       "      <td>...</td>\n",
       "      <td>...</td>\n",
       "      <td>...</td>\n",
       "      <td>...</td>\n",
       "      <td>...</td>\n",
       "      <td>...</td>\n",
       "      <td>...</td>\n",
       "      <td>...</td>\n",
       "    </tr>\n",
       "    <tr>\n",
       "      <th>660674</th>\n",
       "      <td>201091NM01760</td>\n",
       "      <td>Slight</td>\n",
       "      <td>18/02/2022</td>\n",
       "      <td>57.374005</td>\n",
       "      <td>Daylight</td>\n",
       "      <td>Highland</td>\n",
       "      <td>-3.467828</td>\n",
       "      <td>2</td>\n",
       "      <td>1</td>\n",
       "      <td>Dry</td>\n",
       "      <td>Single carriageway</td>\n",
       "      <td>Rural</td>\n",
       "      <td>Fine no high winds</td>\n",
       "      <td>Car</td>\n",
       "    </tr>\n",
       "    <tr>\n",
       "      <th>660675</th>\n",
       "      <td>201091NM01881</td>\n",
       "      <td>Slight</td>\n",
       "      <td>21/02/2022</td>\n",
       "      <td>57.232273</td>\n",
       "      <td>Darkness - no lighting</td>\n",
       "      <td>Highland</td>\n",
       "      <td>-3.809281</td>\n",
       "      <td>1</td>\n",
       "      <td>1</td>\n",
       "      <td>Frost or ice</td>\n",
       "      <td>Single carriageway</td>\n",
       "      <td>Rural</td>\n",
       "      <td>Fine no high winds</td>\n",
       "      <td>Car</td>\n",
       "    </tr>\n",
       "    <tr>\n",
       "      <th>660676</th>\n",
       "      <td>201091NM01935</td>\n",
       "      <td>Slight</td>\n",
       "      <td>23/02/2022</td>\n",
       "      <td>57.585044</td>\n",
       "      <td>Daylight</td>\n",
       "      <td>Highland</td>\n",
       "      <td>-3.862727</td>\n",
       "      <td>1</td>\n",
       "      <td>3</td>\n",
       "      <td>Frost or ice</td>\n",
       "      <td>Single carriageway</td>\n",
       "      <td>Rural</td>\n",
       "      <td>Fine no high winds</td>\n",
       "      <td>Car</td>\n",
       "    </tr>\n",
       "    <tr>\n",
       "      <th>660677</th>\n",
       "      <td>201091NM01964</td>\n",
       "      <td>Serious</td>\n",
       "      <td>23/02/2022</td>\n",
       "      <td>57.214898</td>\n",
       "      <td>Darkness - no lighting</td>\n",
       "      <td>Highland</td>\n",
       "      <td>-3.823997</td>\n",
       "      <td>1</td>\n",
       "      <td>2</td>\n",
       "      <td>Wet or damp</td>\n",
       "      <td>Single carriageway</td>\n",
       "      <td>Rural</td>\n",
       "      <td>Fine no high winds</td>\n",
       "      <td>Motorcycle over 500cc</td>\n",
       "    </tr>\n",
       "    <tr>\n",
       "      <th>660678</th>\n",
       "      <td>201091NM02142</td>\n",
       "      <td>Serious</td>\n",
       "      <td>28/02/2022</td>\n",
       "      <td>57.575210</td>\n",
       "      <td>Daylight</td>\n",
       "      <td>Highland</td>\n",
       "      <td>-3.895673</td>\n",
       "      <td>1</td>\n",
       "      <td>1</td>\n",
       "      <td>Wet or damp</td>\n",
       "      <td>Dual carriageway</td>\n",
       "      <td>Rural</td>\n",
       "      <td>Snowing no high winds</td>\n",
       "      <td>Car</td>\n",
       "    </tr>\n",
       "  </tbody>\n",
       "</table>\n",
       "<p>660679 rows × 14 columns</p>\n",
       "</div>"
      ],
      "text/plain": [
       "                Index Accident_Severity Accident Date   Latitude  \\\n",
       "0       200701BS64157           Serious    05/06/2019  51.506187   \n",
       "1       200701BS65737           Serious    02/07/2019  51.495029   \n",
       "2       200701BS66127           Serious    26/08/2019  51.517715   \n",
       "3       200701BS66128           Serious    16/08/2019  51.495478   \n",
       "4       200701BS66837            Slight    03/09/2019  51.488576   \n",
       "...               ...               ...           ...        ...   \n",
       "660674  201091NM01760            Slight    18/02/2022  57.374005   \n",
       "660675  201091NM01881            Slight    21/02/2022  57.232273   \n",
       "660676  201091NM01935            Slight    23/02/2022  57.585044   \n",
       "660677  201091NM01964           Serious    23/02/2022  57.214898   \n",
       "660678  201091NM02142           Serious    28/02/2022  57.575210   \n",
       "\n",
       "                   Light_Conditions           District Area  Longitude  \\\n",
       "0             Darkness - lights lit  Kensington and Chelsea  -0.209082   \n",
       "1                          Daylight  Kensington and Chelsea  -0.173647   \n",
       "2       Darkness - lighting unknown  Kensington and Chelsea  -0.210215   \n",
       "3                          Daylight  Kensington and Chelsea  -0.202731   \n",
       "4             Darkness - lights lit  Kensington and Chelsea  -0.192487   \n",
       "...                             ...                     ...        ...   \n",
       "660674                     Daylight                Highland  -3.467828   \n",
       "660675       Darkness - no lighting                Highland  -3.809281   \n",
       "660676                     Daylight                Highland  -3.862727   \n",
       "660677       Darkness - no lighting                Highland  -3.823997   \n",
       "660678                     Daylight                Highland  -3.895673   \n",
       "\n",
       "        Number_of_Casualties  Number_of_Vehicles Road_Surface_Conditions  \\\n",
       "0                          1                   2                     Dry   \n",
       "1                          1                   2             Wet or damp   \n",
       "2                          1                   3                     Dry   \n",
       "3                          1                   4                     Dry   \n",
       "4                          1                   2                     Dry   \n",
       "...                      ...                 ...                     ...   \n",
       "660674                     2                   1                     Dry   \n",
       "660675                     1                   1            Frost or ice   \n",
       "660676                     1                   3            Frost or ice   \n",
       "660677                     1                   2             Wet or damp   \n",
       "660678                     1                   1             Wet or damp   \n",
       "\n",
       "                 Road_Type Urban_or_Rural_Area     Weather_Conditions  \\\n",
       "0       Single carriageway               Urban     Fine no high winds   \n",
       "1       Single carriageway               Urban  Raining no high winds   \n",
       "2                      NaN               Urban                    NaN   \n",
       "3       Single carriageway               Urban     Fine no high winds   \n",
       "4                      NaN               Urban                    NaN   \n",
       "...                    ...                 ...                    ...   \n",
       "660674  Single carriageway               Rural     Fine no high winds   \n",
       "660675  Single carriageway               Rural     Fine no high winds   \n",
       "660676  Single carriageway               Rural     Fine no high winds   \n",
       "660677  Single carriageway               Rural     Fine no high winds   \n",
       "660678    Dual carriageway               Rural  Snowing no high winds   \n",
       "\n",
       "                                Vehicle_Type  \n",
       "0                                        Car  \n",
       "1                                        Car  \n",
       "2                      Taxi/Private hire car  \n",
       "3       Bus or coach (17 or more pass seats)  \n",
       "4                              Other vehicle  \n",
       "...                                      ...  \n",
       "660674                                   Car  \n",
       "660675                                   Car  \n",
       "660676                                   Car  \n",
       "660677                 Motorcycle over 500cc  \n",
       "660678                                   Car  \n",
       "\n",
       "[660679 rows x 14 columns]"
      ]
     },
     "execution_count": 4,
     "metadata": {},
     "output_type": "execute_result"
    }
   ],
   "source": [
    "accident"
   ]
  },
  {
   "cell_type": "code",
   "execution_count": 5,
   "id": "a70a9cc2-f125-446b-a3a5-638201d70ce0",
   "metadata": {},
   "outputs": [
    {
     "name": "stdout",
     "output_type": "stream",
     "text": [
      "<class 'pandas.core.frame.DataFrame'>\n",
      "RangeIndex: 660679 entries, 0 to 660678\n",
      "Data columns (total 14 columns):\n",
      " #   Column                   Non-Null Count   Dtype  \n",
      "---  ------                   --------------   -----  \n",
      " 0   Index                    660679 non-null  object \n",
      " 1   Accident_Severity        660679 non-null  object \n",
      " 2   Accident Date            660679 non-null  object \n",
      " 3   Latitude                 660654 non-null  float64\n",
      " 4   Light_Conditions         660679 non-null  object \n",
      " 5   District Area            660679 non-null  object \n",
      " 6   Longitude                660653 non-null  float64\n",
      " 7   Number_of_Casualties     660679 non-null  int64  \n",
      " 8   Number_of_Vehicles       660679 non-null  int64  \n",
      " 9   Road_Surface_Conditions  659953 non-null  object \n",
      " 10  Road_Type                656159 non-null  object \n",
      " 11  Urban_or_Rural_Area      660664 non-null  object \n",
      " 12  Weather_Conditions       646551 non-null  object \n",
      " 13  Vehicle_Type             660679 non-null  object \n",
      "dtypes: float64(2), int64(2), object(10)\n",
      "memory usage: 70.6+ MB\n"
     ]
    }
   ],
   "source": [
    "accident.info()"
   ]
  },
  {
   "cell_type": "markdown",
   "id": "4bffc211-0f4f-45e3-8cc1-5d242758fd94",
   "metadata": {},
   "source": [
    "<h1> Data Cleansing </h1>"
   ]
  },
  {
   "cell_type": "code",
   "execution_count": 6,
   "id": "cb94a976-bd31-43a7-9b25-9e86c0c6e75d",
   "metadata": {},
   "outputs": [
    {
     "data": {
      "text/plain": [
       "Index                          0\n",
       "Accident_Severity              0\n",
       "Accident Date                  0\n",
       "Latitude                      25\n",
       "Light_Conditions               0\n",
       "District Area                  0\n",
       "Longitude                     26\n",
       "Number_of_Casualties           0\n",
       "Number_of_Vehicles             0\n",
       "Road_Surface_Conditions      726\n",
       "Road_Type                   4520\n",
       "Urban_or_Rural_Area           15\n",
       "Weather_Conditions         14128\n",
       "Vehicle_Type                   0\n",
       "dtype: int64"
      ]
     },
     "execution_count": 6,
     "metadata": {},
     "output_type": "execute_result"
    }
   ],
   "source": [
    "accident.isnull().sum()"
   ]
  },
  {
   "cell_type": "code",
   "execution_count": 7,
   "id": "32b34a57-834a-4de4-8608-5bba583c3a25",
   "metadata": {},
   "outputs": [],
   "source": [
    "accident['Latitude'] = accident['Latitude'].fillna(accident['Latitude'].mode()[0])\n",
    "accident['Longitude'] = accident['Longitude'].fillna(accident['Longitude'].mode()[0])\n",
    "accident['Road_Surface_Conditions'] = accident['Road_Surface_Conditions'].fillna('uncounted')\n",
    "accident['Road_Type'] = accident['Road_Type'].fillna('uncounted')\n",
    "accident['Weather_Conditions'] = accident['Weather_Conditions'].fillna('uncounted')\n",
    "accident['Urban_or_Rural_Area'] = accident['Urban_or_Rural_Area'].fillna(accident['Urban_or_Rural_Area'].mode()[0])\n"
   ]
  },
  {
   "cell_type": "code",
   "execution_count": 8,
   "id": "736c9dda-6b64-4e71-8299-9de3fdccb24c",
   "metadata": {},
   "outputs": [
    {
     "data": {
      "text/plain": [
       "Index                      0\n",
       "Accident_Severity          0\n",
       "Accident Date              0\n",
       "Latitude                   0\n",
       "Light_Conditions           0\n",
       "District Area              0\n",
       "Longitude                  0\n",
       "Number_of_Casualties       0\n",
       "Number_of_Vehicles         0\n",
       "Road_Surface_Conditions    0\n",
       "Road_Type                  0\n",
       "Urban_or_Rural_Area        0\n",
       "Weather_Conditions         0\n",
       "Vehicle_Type               0\n",
       "dtype: int64"
      ]
     },
     "execution_count": 8,
     "metadata": {},
     "output_type": "execute_result"
    }
   ],
   "source": [
    "accident.isnull().sum()"
   ]
  },
  {
   "cell_type": "markdown",
   "id": "6553bd55-8ae3-42ca-9a47-8235e6a4c6aa",
   "metadata": {},
   "source": [
    "<h1> Changing Data Types </h1>"
   ]
  },
  {
   "cell_type": "code",
   "execution_count": 9,
   "id": "b856f2b1-a13a-4c2e-b29f-265559e9d7b1",
   "metadata": {},
   "outputs": [
    {
     "data": {
      "text/plain": [
       "Index                       object\n",
       "Accident_Severity           object\n",
       "Accident Date               object\n",
       "Latitude                   float64\n",
       "Light_Conditions            object\n",
       "District Area               object\n",
       "Longitude                  float64\n",
       "Number_of_Casualties         int64\n",
       "Number_of_Vehicles           int64\n",
       "Road_Surface_Conditions     object\n",
       "Road_Type                   object\n",
       "Urban_or_Rural_Area         object\n",
       "Weather_Conditions          object\n",
       "Vehicle_Type                object\n",
       "dtype: object"
      ]
     },
     "execution_count": 9,
     "metadata": {},
     "output_type": "execute_result"
    }
   ],
   "source": [
    "accident.dtypes"
   ]
  },
  {
   "cell_type": "code",
   "execution_count": 10,
   "id": "3068c17b-434f-4467-a8c0-6cebbb1d0a0d",
   "metadata": {},
   "outputs": [],
   "source": [
    "accident['Latitude'] = accident['Latitude'].astype('category')\n",
    "accident['Longitude'] = accident['Longitude'].astype('category')\n",
    "accident['Accident_Severity'] = accident['Accident_Severity'].astype('category')\n",
    "accident['Light_Conditions'] = accident['Light_Conditions'].astype('category')\n",
    "accident['District Area'] = accident['District Area'].astype('category')\n",
    "accident['Road_Surface_Conditions'] = accident['Road_Surface_Conditions'].astype('category')\n",
    "accident['Road_Type'] = accident['Road_Type'].astype('category')\n",
    "accident['Urban_or_Rural_Area'] = accident['Urban_or_Rural_Area'].astype('category')\n",
    "accident['Weather_Conditions'] = accident['Weather_Conditions'].astype('category')\n",
    "accident['Vehicle_Type'] = accident['Vehicle_Type'].astype('category')"
   ]
  },
  {
   "cell_type": "code",
   "execution_count": 11,
   "id": "4cd50f04-158c-4bd2-a29b-564e929a6556",
   "metadata": {},
   "outputs": [
    {
     "data": {
      "text/plain": [
       "Index                        object\n",
       "Accident_Severity          category\n",
       "Accident Date                object\n",
       "Latitude                   category\n",
       "Light_Conditions           category\n",
       "District Area              category\n",
       "Longitude                  category\n",
       "Number_of_Casualties          int64\n",
       "Number_of_Vehicles            int64\n",
       "Road_Surface_Conditions    category\n",
       "Road_Type                  category\n",
       "Urban_or_Rural_Area        category\n",
       "Weather_Conditions         category\n",
       "Vehicle_Type               category\n",
       "dtype: object"
      ]
     },
     "execution_count": 11,
     "metadata": {},
     "output_type": "execute_result"
    }
   ],
   "source": [
    "accident.dtypes"
   ]
  },
  {
   "cell_type": "markdown",
   "id": "32191e49-f2a7-47de-b1f6-f9d640956eb3",
   "metadata": {},
   "source": [
    "<h1> Converting Object to Data Time Data Type </h1>"
   ]
  },
  {
   "cell_type": "code",
   "execution_count": 12,
   "id": "44c8dd64-f8fb-41d0-88ae-530a84c5a5a7",
   "metadata": {},
   "outputs": [],
   "source": [
    "accident['Accident Date'] = pd.to_datetime(accident['Accident Date'], dayfirst = True, errors = 'coerce')"
   ]
  },
  {
   "cell_type": "code",
   "execution_count": 13,
   "id": "9f1a4db4-103c-4563-941c-d7dc854e56e6",
   "metadata": {},
   "outputs": [
    {
     "data": {
      "text/plain": [
       "Index                              object\n",
       "Accident_Severity                category\n",
       "Accident Date              datetime64[ns]\n",
       "Latitude                         category\n",
       "Light_Conditions                 category\n",
       "District Area                    category\n",
       "Longitude                        category\n",
       "Number_of_Casualties                int64\n",
       "Number_of_Vehicles                  int64\n",
       "Road_Surface_Conditions          category\n",
       "Road_Type                        category\n",
       "Urban_or_Rural_Area              category\n",
       "Weather_Conditions               category\n",
       "Vehicle_Type                     category\n",
       "dtype: object"
      ]
     },
     "execution_count": 13,
     "metadata": {},
     "output_type": "execute_result"
    }
   ],
   "source": [
    "accident.dtypes"
   ]
  },
  {
   "cell_type": "code",
   "execution_count": 14,
   "id": "d68409b6-9fa3-49dc-8b89-7919c9aede72",
   "metadata": {},
   "outputs": [
    {
     "data": {
      "text/plain": [
       "Index                      0\n",
       "Accident_Severity          0\n",
       "Accident Date              0\n",
       "Latitude                   0\n",
       "Light_Conditions           0\n",
       "District Area              0\n",
       "Longitude                  0\n",
       "Number_of_Casualties       0\n",
       "Number_of_Vehicles         0\n",
       "Road_Surface_Conditions    0\n",
       "Road_Type                  0\n",
       "Urban_or_Rural_Area        0\n",
       "Weather_Conditions         0\n",
       "Vehicle_Type               0\n",
       "dtype: int64"
      ]
     },
     "execution_count": 14,
     "metadata": {},
     "output_type": "execute_result"
    }
   ],
   "source": [
    "accident.isnull().sum()"
   ]
  },
  {
   "cell_type": "markdown",
   "id": "4360d017-b68e-485d-9172-54860ef1681f",
   "metadata": {},
   "source": [
    "<h1> Extracting date information using pandas date time </h1>"
   ]
  },
  {
   "cell_type": "code",
   "execution_count": 15,
   "id": "357e4184-0f28-4362-b365-e248359a9dc3",
   "metadata": {},
   "outputs": [],
   "source": [
    "accident['Year'] = accident['Accident Date'].dt.year\n",
    "accident['Month'] = accident['Accident Date'].dt.month\n",
    "accident['Day'] = accident['Accident Date'].dt.day\n",
    "accident['DayOfWeek'] = accident['Accident Date'].dt.dayofweek\n"
   ]
  },
  {
   "cell_type": "code",
   "execution_count": 16,
   "id": "89da5c45-9fde-4eef-a5b2-2becbd69c069",
   "metadata": {},
   "outputs": [
    {
     "data": {
      "text/plain": [
       "Index                      0\n",
       "Accident_Severity          0\n",
       "Accident Date              0\n",
       "Latitude                   0\n",
       "Light_Conditions           0\n",
       "District Area              0\n",
       "Longitude                  0\n",
       "Number_of_Casualties       0\n",
       "Number_of_Vehicles         0\n",
       "Road_Surface_Conditions    0\n",
       "Road_Type                  0\n",
       "Urban_or_Rural_Area        0\n",
       "Weather_Conditions         0\n",
       "Vehicle_Type               0\n",
       "Year                       0\n",
       "Month                      0\n",
       "Day                        0\n",
       "DayOfWeek                  0\n",
       "dtype: int64"
      ]
     },
     "execution_count": 16,
     "metadata": {},
     "output_type": "execute_result"
    }
   ],
   "source": [
    "accident.isnull().sum()"
   ]
  },
  {
   "cell_type": "code",
   "execution_count": 17,
   "id": "da194676-eefa-4870-946f-be4125f94e57",
   "metadata": {},
   "outputs": [
    {
     "data": {
      "text/plain": [
       "Index                              object\n",
       "Accident_Severity                category\n",
       "Accident Date              datetime64[ns]\n",
       "Latitude                         category\n",
       "Light_Conditions                 category\n",
       "District Area                    category\n",
       "Longitude                        category\n",
       "Number_of_Casualties                int64\n",
       "Number_of_Vehicles                  int64\n",
       "Road_Surface_Conditions          category\n",
       "Road_Type                        category\n",
       "Urban_or_Rural_Area              category\n",
       "Weather_Conditions               category\n",
       "Vehicle_Type                     category\n",
       "Year                                int32\n",
       "Month                               int32\n",
       "Day                                 int32\n",
       "DayOfWeek                           int32\n",
       "dtype: object"
      ]
     },
     "execution_count": 17,
     "metadata": {},
     "output_type": "execute_result"
    }
   ],
   "source": [
    "accident.dtypes"
   ]
  },
  {
   "cell_type": "code",
   "execution_count": null,
   "id": "2eef8582-8ce3-4a72-b2c3-cb3b89770833",
   "metadata": {},
   "outputs": [],
   "source": []
  },
  {
   "cell_type": "markdown",
   "id": "17581dcb-e600-4a3b-bdeb-c469bb95f0b5",
   "metadata": {},
   "source": [
    "<h1> >>>UNIVIRATE / BIVARIATE / MULTIVARIATE <<< </h1>"
   ]
  },
  {
   "cell_type": "markdown",
   "id": "516a5849-ff1c-4fbb-9c83-d3ecbdd7b6d8",
   "metadata": {},
   "source": [
    "<h1> Insight 1 </h1>\n",
    "<h2> Accident Severity per category</h2>\n",
    "<h3> Based on the result it appears that there are more accidents that are Slight in severity(85.34%) followed by Serious(13.35%) and lastly Fatal( 1.31%). </h3>"
   ]
  },
  {
   "cell_type": "code",
   "execution_count": 18,
   "id": "9b195faf-1348-46a9-8746-c9425ad7205c",
   "metadata": {},
   "outputs": [
    {
     "name": "stdout",
     "output_type": "stream",
     "text": [
      "Accident_Severity\n",
      "Slight     563801\n",
      "Serious     88217\n",
      "Fatal        8661\n",
      "Name: count, dtype: int64\n"
     ]
    }
   ],
   "source": [
    "accident_severity_counts = accident['Accident_Severity'].value_counts()\n",
    "print(accident_severity_counts)"
   ]
  },
  {
   "cell_type": "code",
   "execution_count": null,
   "id": "0c780124-d8e6-411f-817a-5b70554b121a",
   "metadata": {},
   "outputs": [],
   "source": []
  },
  {
   "cell_type": "markdown",
   "id": "6929204f-1f7f-4503-b148-9e8a3e05c6b2",
   "metadata": {},
   "source": [
    "<h1> Insight 2 </h1>\n",
    "<h2> Vehicle Type by Fatal Accident </h2>\n",
    "<h3>Cars have the highest fatality rate, making up 75.94% of all fatal accidents involving vehicles. </h3>"
   ]
  },
  {
   "cell_type": "code",
   "execution_count": 19,
   "id": "26fa4f65-34d7-419e-b969-9db118349fe4",
   "metadata": {},
   "outputs": [
    {
     "name": "stdout",
     "output_type": "stream",
     "text": [
      "Vehicle_Type\n",
      "Car                                      6577\n",
      "Van / Goods 3.5 tonnes mgw or under       467\n",
      "Motorcycle over 500cc                     339\n",
      "Bus or coach (17 or more pass seats)      325\n",
      "Goods 7.5 tonnes mgw and over             216\n",
      "Motorcycle 125cc and under                189\n",
      "Taxi/Private hire car                     155\n",
      "Motorcycle over 125cc and up to 500cc     105\n",
      "Motorcycle 50cc and under                  95\n",
      "Other vehicle                              70\n",
      "Goods over 3.5t. and under 7.5t            67\n",
      "Minibus (8 - 16 passenger seats)           29\n",
      "Agricultural vehicle                       21\n",
      "Pedal cycle                                 6\n",
      "Data missing or out of range                0\n",
      "Ridden horse                                0\n",
      "Name: count, dtype: int64\n"
     ]
    }
   ],
   "source": [
    "fatal_accidents = accident[accident['Accident_Severity'] == 'Fatal']\n",
    "print(fatal_accidents['Vehicle_Type'].value_counts())"
   ]
  },
  {
   "cell_type": "markdown",
   "id": "54870ec8-dff3-44eb-be79-7fef578f9b16",
   "metadata": {},
   "source": [
    "<h1> Insight 3 </h1>\n",
    "<h2> Average Casualties by Accident Severity </h2>\n",
    "<h3> Since \"Fatal\" accidents have the highest number of incidents, they also result in the highest average casualty rate. This shows that fatal accidents not only occur frequently but also cause the most severe harm on average. </h3>"
   ]
  },
  {
   "cell_type": "code",
   "execution_count": 20,
   "id": "f4b25144-cc69-4f97-9c31-37322b5dec98",
   "metadata": {},
   "outputs": [
    {
     "name": "stdout",
     "output_type": "stream",
     "text": [
      "Accident_Severity\n",
      "Fatal      1.903129\n",
      "Serious    1.467280\n",
      "Slight     1.331402\n",
      "Name: Number_of_Casualties, dtype: float64\n"
     ]
    }
   ],
   "source": [
    "print(accident.groupby('Accident_Severity')['Number_of_Casualties'].mean())"
   ]
  },
  {
   "cell_type": "markdown",
   "id": "49e71a28-4c96-4c5d-8c40-75bd5b56ce4a",
   "metadata": {},
   "source": [
    "<h1> Insight 4</h1>\n",
    "<h2> Total Casualties by Weather Conditions </h2>\n",
    "<h3> The results show that weather conditions described as \"Fine, no high winds\" account for the highest number of casualties, making up about 78.46% of the total. This highlights that most accidents occur even in safe weather conditions </h3>"
   ]
  },
  {
   "cell_type": "code",
   "execution_count": 21,
   "id": "400c7895-78dd-4cf5-9358-4479214f5b82",
   "metadata": {},
   "outputs": [
    {
     "name": "stdout",
     "output_type": "stream",
     "text": [
      "Weather_Conditions\n",
      "Fine + high winds         11856\n",
      "Fine no high winds       703445\n",
      "Fog or mist                5126\n",
      "Other                     23236\n",
      "Raining + high winds      13621\n",
      "Raining no high winds    112229\n",
      "Snowing + high winds       1255\n",
      "Snowing no high winds      8370\n",
      "uncounted                 17430\n",
      "Name: Number_of_Casualties, dtype: int64\n"
     ]
    }
   ],
   "source": [
    "print(accident.groupby('Weather_Conditions')['Number_of_Casualties'].sum())"
   ]
  },
  {
   "cell_type": "markdown",
   "id": "cd02843b-6ac6-41ca-b500-75cb4dd5fd98",
   "metadata": {},
   "source": [
    "<h1> Insight 5 </h1>\n",
    "<h2> Most Common Weather Condition </h2>\n",
    "<h3> It appears that \"Fine, no high winds\" is the most common weather condition during accidents, showing that even in good weather, accidents still occur.</h3>"
   ]
  },
  {
   "cell_type": "code",
   "execution_count": 22,
   "id": "7740f19f-38ef-4996-bd30-babed6b7a829",
   "metadata": {},
   "outputs": [
    {
     "name": "stdout",
     "output_type": "stream",
     "text": [
      "Most Common Weather\n",
      "Fine no high winds\n"
     ]
    }
   ],
   "source": [
    "Most_Common_Weather = accident['Weather_Conditions'].mode()[0]\n",
    "print(f\"Most Common Weather\")\n",
    "print(Most_Common_Weather)"
   ]
  },
  {
   "cell_type": "code",
   "execution_count": null,
   "id": "c6dd4391-f4a5-4fe1-ab73-9538a5fea018",
   "metadata": {},
   "outputs": [],
   "source": []
  },
  {
   "cell_type": "markdown",
   "id": "90c98686-b9c8-490f-9b85-b853e81b84c8",
   "metadata": {},
   "source": [
    "<h1> Insight 6</h1>\n",
    "<h2> Fatal Accidents by Weather </h2>\n",
    "<h3> A closer look at the data reveals that the weather condition with the highest number of fatalities is \"Fine, no high winds.\" This indicates that even in safe and favorable weather, fatal accidents are most likely to occur.</h3>"
   ]
  },
  {
   "cell_type": "code",
   "execution_count": 23,
   "id": "e1e25694-a10e-4175-8f03-96e7acd93360",
   "metadata": {},
   "outputs": [
    {
     "name": "stdout",
     "output_type": "stream",
     "text": [
      "Weather_Conditions\n",
      "Fine no high winds       7100\n",
      "Raining no high winds     848\n",
      "Fine + high winds         175\n",
      "Other                     165\n",
      "Raining + high winds      145\n",
      "uncounted                 107\n",
      "Fog or mist                82\n",
      "Snowing no high winds      36\n",
      "Snowing + high winds        3\n",
      "Name: count, dtype: int64\n"
     ]
    }
   ],
   "source": [
    "fatal_accidents = accident[accident['Accident_Severity'] == 'Fatal']\n",
    "print(fatal_accidents['Weather_Conditions'].value_counts())"
   ]
  },
  {
   "cell_type": "markdown",
   "id": "294d4c3f-da79-4d89-9c27-b0416eadecb0",
   "metadata": {},
   "source": [
    "<h1> Insight 7 </h1>\n",
    "<h2> Fine no high winds in Urban and Rural Areas </h2>\n",
    "<h3> The data shows that the weather condition \"Fine, no high winds\" is most frequently associated with accidents in urban areas. This suggests that even in good weather, urban environments experience more accidents. </h3>"
   ]
  },
  {
   "cell_type": "code",
   "execution_count": 24,
   "id": "9cb61569-019c-4c95-8e06-4f2185af6b88",
   "metadata": {},
   "outputs": [
    {
     "name": "stdout",
     "output_type": "stream",
     "text": [
      "Urban_or_Rural_Area\n",
      "Urban          339088\n",
      "Rural          181792\n",
      "Unallocated         5\n",
      "Name: count, dtype: int64\n"
     ]
    }
   ],
   "source": [
    "weather = accident[accident['Weather_Conditions'] == 'Fine no high winds']\n",
    "print(weather['Urban_or_Rural_Area'].value_counts())"
   ]
  },
  {
   "cell_type": "markdown",
   "id": "ce5097c1-5424-48f5-af6e-1b1f4dc1c85c",
   "metadata": {},
   "source": [
    "<h1> Insight 8 </h1>\n",
    "<h2> Accidents by Urban vs. Rural Area </h2>\n",
    "<h3> Since the data above shows that the weather 'Fine no high winds' got the highest casualty then weather 'Fine no high winds' moslty appears in the Urban area. This data shows that Urban area got the highest number of accidents which supported the claims above</h3>"
   ]
  },
  {
   "cell_type": "code",
   "execution_count": 25,
   "id": "ad9aea72-01a4-45d8-9386-05af13f6636c",
   "metadata": {},
   "outputs": [
    {
     "name": "stdout",
     "output_type": "stream",
     "text": [
      "Accident Per Area\n",
      "Urban_or_Rural_Area\n",
      "Urban          421678\n",
      "Rural          238990\n",
      "Unallocated        11\n",
      "Name: count, dtype: int64\n"
     ]
    }
   ],
   "source": [
    "Urban_Rural = accident['Urban_or_Rural_Area'].value_counts()\n",
    "print(f'Accident Per Area')\n",
    "print(Urban_Rural)\n"
   ]
  },
  {
   "cell_type": "markdown",
   "id": "ba603687-fe52-4a30-b5ac-6603d741ecfc",
   "metadata": {},
   "source": [
    "<h1> Insight 9 </h1>\n",
    "<h2> Fatal Accidents in Urban and Rural Area </h2>\n",
    "<h3> This data shows that even though Urban got the highest number of accidents Rural area got the highest fatality count which means there are more deaths in Rural Areas </h3>"
   ]
  },
  {
   "cell_type": "code",
   "execution_count": 26,
   "id": "f4d96133-fc0c-4060-a6f0-0d82019489af",
   "metadata": {},
   "outputs": [
    {
     "name": "stdout",
     "output_type": "stream",
     "text": [
      "Urban_or_Rural_Area\n",
      "Rural          5601\n",
      "Urban          3060\n",
      "Unallocated       0\n",
      "Name: count, dtype: int64\n"
     ]
    }
   ],
   "source": [
    "fatal_accidents = accident[accident['Accident_Severity'] == 'Fatal']\n",
    "print(fatal_accidents['Urban_or_Rural_Area'].value_counts())"
   ]
  },
  {
   "cell_type": "markdown",
   "id": "11994297-4c58-4007-b777-e1081cb75dc8",
   "metadata": {},
   "source": [
    "<h1> Insight 10 </h1>\n",
    "<h2> Casualties by Vehicle Type </h2>\n",
    "<h3> The data shows that cars account for the majority of casualties, making up approximately 86.5% of all vehicle-related accidents. This is followed by motorcycles over 500cc at about 4.4% , and buses or coaches at roughly 4.4%.</h3>"
   ]
  },
  {
   "cell_type": "code",
   "execution_count": 27,
   "id": "ac77eb05-f9c8-47bf-9d10-061a46f1738e",
   "metadata": {},
   "outputs": [
    {
     "name": "stdout",
     "output_type": "stream",
     "text": [
      "Vehicle_Type\n",
      "Agricultural vehicle                       2613\n",
      "Bus or coach (17 or more pass seats)      34915\n",
      "Car                                      676692\n",
      "Data missing or out of range                  9\n",
      "Goods 7.5 tonnes mgw and over             23397\n",
      "Goods over 3.5t. and under 7.5t            8308\n",
      "Minibus (8 - 16 passenger seats)           2659\n",
      "Motorcycle 125cc and under                20348\n",
      "Motorcycle 50cc and under                 10167\n",
      "Motorcycle over 125cc and up to 500cc     10286\n",
      "Motorcycle over 500cc                     34879\n",
      "Other vehicle                              7554\n",
      "Pedal cycle                                 270\n",
      "Ridden horse                                  5\n",
      "Taxi/Private hire car                     18195\n",
      "Van / Goods 3.5 tonnes mgw or under       46271\n",
      "Name: Number_of_Casualties, dtype: int64\n"
     ]
    }
   ],
   "source": [
    "print(accident.groupby('Vehicle_Type')['Number_of_Casualties'].sum())"
   ]
  },
  {
   "cell_type": "markdown",
   "id": "a2861e38-2032-4162-a102-02221f946fa8",
   "metadata": {},
   "source": [
    "<h1> Insight 11 </h1>\n",
    "<h2> Vehicle Type in Urban and Rural Area </h2>\n",
    "<h3> The data consistently highlights that cars are the vehicle type most frequently involved in accidents in both rural and urban areas, aligning with their highest number of casualties. This reinforces the fact that cars dominate accident statistics.</h3>"
   ]
  },
  {
   "cell_type": "code",
   "execution_count": 28,
   "id": "2a8a7368-84ab-4de0-836a-0a9ec31784e1",
   "metadata": {},
   "outputs": [
    {
     "name": "stdout",
     "output_type": "stream",
     "text": [
      "Urban_or_Rural_Area  Vehicle_Type                         \n",
      "Rural                Car                                      181922\n",
      "                     Van / Goods 3.5 tonnes mgw or under       12156\n",
      "                     Bus or coach (17 or more pass seats)       9025\n",
      "                     Motorcycle over 500cc                      8957\n",
      "                     Goods 7.5 tonnes mgw and over              6156\n",
      "                     Motorcycle 125cc and under                 5023\n",
      "                     Taxi/Private hire car                      4677\n",
      "                     Motorcycle 50cc and under                  2710\n",
      "                     Motorcycle over 125cc and up to 500cc      2674\n",
      "                     Goods over 3.5t. and under 7.5t            2232\n",
      "                     Other vehicle                              1994\n",
      "                     Minibus (8 - 16 passenger seats)            718\n",
      "                     Agricultural vehicle                        675\n",
      "                     Pedal cycle                                  70\n",
      "                     Ridden horse                                  1\n",
      "                     Data missing or out of range                  0\n",
      "Unallocated          Car                                           8\n",
      "                     Bus or coach (17 or more pass seats)          2\n",
      "                     Van / Goods 3.5 tonnes mgw or under           1\n",
      "                     Agricultural vehicle                          0\n",
      "                     Data missing or out of range                  0\n",
      "                     Goods 7.5 tonnes mgw and over                 0\n",
      "                     Goods over 3.5t. and under 7.5t               0\n",
      "                     Minibus (8 - 16 passenger seats)              0\n",
      "                     Motorcycle 125cc and under                    0\n",
      "                     Motorcycle 50cc and under                     0\n",
      "                     Motorcycle over 125cc and up to 500cc         0\n",
      "                     Motorcycle over 500cc                         0\n",
      "                     Other vehicle                                 0\n",
      "                     Pedal cycle                                   0\n",
      "                     Ridden horse                                  0\n",
      "                     Taxi/Private hire car                         0\n",
      "Urban                Car                                      316062\n",
      "                     Van / Goods 3.5 tonnes mgw or under       22003\n",
      "                     Bus or coach (17 or more pass seats)      16851\n",
      "                     Motorcycle over 500cc                     16700\n",
      "                     Goods 7.5 tonnes mgw and over             11151\n",
      "                     Motorcycle 125cc and under                10246\n",
      "                     Taxi/Private hire car                      8617\n",
      "                     Motorcycle over 125cc and up to 500cc      4982\n",
      "                     Motorcycle 50cc and under                  4893\n",
      "                     Goods over 3.5t. and under 7.5t            3864\n",
      "                     Other vehicle                              3643\n",
      "                     Agricultural vehicle                       1272\n",
      "                     Minibus (8 - 16 passenger seats)           1258\n",
      "                     Pedal cycle                                 127\n",
      "                     Data missing or out of range                  6\n",
      "                     Ridden horse                                  3\n",
      "Name: count, dtype: int64\n"
     ]
    }
   ],
   "source": [
    "print(accident.groupby('Urban_or_Rural_Area')['Vehicle_Type'].value_counts())"
   ]
  },
  {
   "cell_type": "markdown",
   "id": "818073d1-b3d9-40b7-9abb-5f9e3a8fd4d0",
   "metadata": {},
   "source": [
    "<h1> Insight 12 </h1>\n",
    "<h2> Average Vehicles Involved by Road Type </h2>\n",
    "<h3> Among the road types, dual carriageways recorded the highest number of vehicles involved in accidents. This highlights the need for enhanced safety measures and better traffic management. </h3>"
   ]
  },
  {
   "cell_type": "code",
   "execution_count": 29,
   "id": "9f713c6b-21db-4117-b6a5-15789cb693de",
   "metadata": {},
   "outputs": [
    {
     "name": "stdout",
     "output_type": "stream",
     "text": [
      "Road_Type\n",
      "Dual carriageway      2.009766\n",
      "One way street        1.585441\n",
      "Roundabout            1.901323\n",
      "Single carriageway    1.795911\n",
      "Slip road             1.917483\n",
      "uncounted             1.674115\n",
      "Name: Number_of_Vehicles, dtype: float64\n"
     ]
    }
   ],
   "source": [
    "print(accident.groupby('Road_Type')['Number_of_Vehicles'].mean())"
   ]
  },
  {
   "cell_type": "markdown",
   "id": "0f5c43b5-a280-40a1-a838-cac0d7f37801",
   "metadata": {},
   "source": [
    "<h1> Insight 13 </h1>\n",
    "<h2> Total Casualities by Road Surface Condition </h2>\n",
    "<h3>The results reveal that the road surface condition with the highest number of casualties is \"Dry.\" This unexpected finding suggests that factors other than slippery or adverse road conditions, such as driver behavior or traffic volume, may play a significant role in accidents on dry roads. </h3>"
   ]
  },
  {
   "cell_type": "code",
   "execution_count": 30,
   "id": "fdcb15ae-87e5-4f29-bfed-7a377107f687",
   "metadata": {},
   "outputs": [
    {
     "name": "stdout",
     "output_type": "stream",
     "text": [
      "Road_Surface_Conditions\n",
      "Dry                     597723\n",
      "Flood over 3cm. deep      1521\n",
      "Frost or ice             24976\n",
      "Snow                      8008\n",
      "Wet or damp             263457\n",
      "uncounted                  883\n",
      "Name: Number_of_Casualties, dtype: int64\n"
     ]
    }
   ],
   "source": [
    "print(accident.groupby(['Road_Surface_Conditions'])['Number_of_Casualties'].sum())"
   ]
  },
  {
   "cell_type": "markdown",
   "id": "ed716d92-41de-46f0-9610-c40fcf90c96e",
   "metadata": {},
   "source": [
    "<h1> Insight 14 </h1>\n",
    "<h2> Casualties by Light Conditions </h2>\n",
    "<h3> The light condition with the highest number of casualties is \"Darkness - Lights Lit,\" indicating that even when lights are on, accidents during dark conditions remain a significant concern.</h3>"
   ]
  },
  {
   "cell_type": "code",
   "execution_count": 31,
   "id": "2ccca491-da46-44c1-815f-2cb78c35be69",
   "metadata": {},
   "outputs": [
    {
     "name": "stdout",
     "output_type": "stream",
     "text": [
      "Light_Conditions\n",
      "Darkness - lighting unknown      8471\n",
      "Darkness - lights lit          177108\n",
      "Darkness - lights unlit          3385\n",
      "Darkness - no lighting          57715\n",
      "Daylight                       649889\n",
      "Name: Number_of_Casualties, dtype: int64\n"
     ]
    }
   ],
   "source": [
    "print(accident.groupby(['Light_Conditions'])['Number_of_Casualties'].sum())"
   ]
  },
  {
   "cell_type": "markdown",
   "id": "bee2046d-08f2-48d0-980a-78ed10425d98",
   "metadata": {},
   "source": [
    "<h1> Insight 15 </h1>\n",
    "<h2> Accidents by Year </h2>\n",
    "<h3>Among all the years analyzed, 2019 recorded the highest number of accidents. This highlights a critical need to examine the factors contributing to this spike and implement targeted safety strategies moving forward. </h3>"
   ]
  },
  {
   "cell_type": "code",
   "execution_count": 32,
   "id": "6ba9d388-b94e-41ee-9c85-11624a9024f5",
   "metadata": {},
   "outputs": [
    {
     "name": "stdout",
     "output_type": "stream",
     "text": [
      "Year\n",
      "2019    182115\n",
      "2020    170591\n",
      "2021    163554\n",
      "2022    144419\n",
      "dtype: int64\n"
     ]
    }
   ],
   "source": [
    "accident['Year'] = accident['Accident Date'].dt.year\n",
    "print(accident.groupby('Year').size())"
   ]
  },
  {
   "cell_type": "markdown",
   "id": "ed19194f-3970-4565-b87c-4266b461bcb0",
   "metadata": {},
   "source": [
    "<h1> Insight 16</h1>\n",
    "<h2> Accidents by Month </h2>\n",
    "<h3> The results indicate that November has the highest accident count compared to all other months. This highlights a potential need for increased safety measures and awareness during this time of the year.</h3>"
   ]
  },
  {
   "cell_type": "code",
   "execution_count": 33,
   "id": "5b8cf0fc-8d6a-46d2-8634-49f54af58bc9",
   "metadata": {},
   "outputs": [
    {
     "name": "stdout",
     "output_type": "stream",
     "text": [
      "Month\n",
      "1     52872\n",
      "2     49491\n",
      "3     54086\n",
      "4     51744\n",
      "5     56352\n",
      "6     56481\n",
      "7     57445\n",
      "8     53913\n",
      "9     56455\n",
      "10    59580\n",
      "11    60424\n",
      "12    51836\n",
      "Name: count, dtype: int64\n"
     ]
    }
   ],
   "source": [
    "accident['Month'] = accident['Accident Date'].dt.month\n",
    "print(accident['Month'].value_counts().sort_index())"
   ]
  },
  {
   "cell_type": "markdown",
   "id": "6ccab0ea-8c56-4908-8933-fd360ca95ea2",
   "metadata": {},
   "source": [
    "<h1> Insight 17 </h1>\n",
    "<h2> DataFrame for Monthly Trends in Urban vs. Rural Accidents </h2>\n",
    "<h3>The results reveal that July has the highest accident rate in rural areas, while in urban areas, November records the most accidents. This suggests that accident patterns vary by location and time of year, possibly due to seasonal factors or differences in activity levels. </h3>"
   ]
  },
  {
   "cell_type": "code",
   "execution_count": 34,
   "id": "c44362ff-8a06-4917-8582-c1fdf99edfd9",
   "metadata": {},
   "outputs": [
    {
     "name": "stdout",
     "output_type": "stream",
     "text": [
      "Urban_or_Rural_Area  Rural  Unallocated  Urban\n",
      "Month                                         \n",
      "1                    19540            1  33331\n",
      "2                    18140            0  31351\n",
      "3                    18806            1  35279\n",
      "4                    18432            1  33311\n",
      "5                    20125            2  36225\n",
      "6                    20200            2  36279\n",
      "7                    21215            1  36229\n",
      "8                    20998            0  32915\n",
      "9                    20035            0  36420\n",
      "10                   20786            0  38794\n",
      "11                   21352            0  39072\n",
      "12                   19361            3  32472\n"
     ]
    }
   ],
   "source": [
    "accident['Month'] = accident['Accident Date'].dt.month\n",
    "df_monthly_trends = accident.groupby(['Month', 'Urban_or_Rural_Area']).size().unstack(fill_value=0)\n",
    "print(df_monthly_trends)"
   ]
  },
  {
   "cell_type": "markdown",
   "id": "8becbab7-394e-4c00-a5b3-d0d4b4300910",
   "metadata": {},
   "source": [
    "<h1> Insight 18 </h1>\n",
    "<h2> Cacualty Rate by Urban/Rural Area and Road Type </h2>\n",
    "<h3> In rural areas, single carriageways had the highest casualty rate at 0.91, while in urban areas, one-way streets were the most dangerous with a rate of 0.84. These numbers show that different road types need specific safety improvements to reduce accidents.</h3>"
   ]
  },
  {
   "cell_type": "code",
   "execution_count": 35,
   "id": "41f17795-491a-4d11-a3f4-bf9ed46f28b2",
   "metadata": {},
   "outputs": [
    {
     "name": "stdout",
     "output_type": "stream",
     "text": [
      "Urban_or_Rural_Area  Road_Type         \n",
      "Rural                Dual carriageway      0.858434\n",
      "                     One way street        0.890640\n",
      "                     Roundabout            0.741760\n",
      "                     Single carriageway    0.912636\n",
      "                     Slip road             0.861361\n",
      "                     uncounted             0.883397\n",
      "Unallocated          Dual carriageway      1.000000\n",
      "                     One way street             NaN\n",
      "                     Roundabout            0.500000\n",
      "                     Single carriageway    0.648148\n",
      "                     Slip road                  NaN\n",
      "                     uncounted                  NaN\n",
      "Urban                Dual carriageway      0.791252\n",
      "                     One way street        0.840583\n",
      "                     Roundabout            0.701307\n",
      "                     Single carriageway    0.784288\n",
      "                     Slip road             0.788661\n",
      "                     uncounted             0.812169\n",
      "Name: Casuality_Rate, dtype: float64\n"
     ]
    }
   ],
   "source": [
    "accident['Casuality_Rate'] = accident['Number_of_Casualties'] / accident['Number_of_Vehicles']\n",
    "print(accident.groupby(['Urban_or_Rural_Area', 'Road_Type'])['Casuality_Rate'].mean())"
   ]
  },
  {
   "cell_type": "code",
   "execution_count": null,
   "id": "c45242d0-f854-422f-a43a-6efb56318d15",
   "metadata": {},
   "outputs": [],
   "source": []
  },
  {
   "cell_type": "markdown",
   "id": "e4b3069c-4192-47b9-adb2-78050159b853",
   "metadata": {},
   "source": [
    "<h1> Insight 19</h1>\n",
    "<h2> Weekly Trends </h2>\n",
    "<h3> The data reveals that Saturday has the highest number of accidents overall, with 1326 fatal, 14000 serious, and 91852 slight accidents, making it the most accident-prone day. However, Sunday records the highest number of fatal accidents (1522), indicating it as the deadliest day despite having fewer total accidents compared to Saturday.</h3>"
   ]
  },
  {
   "cell_type": "code",
   "execution_count": 36,
   "id": "6af6cdfd-e409-4b34-8829-7320f968c59b",
   "metadata": {},
   "outputs": [
    {
     "name": "stdout",
     "output_type": "stream",
     "text": [
      "Accident_Severity  Fatal  Serious  Slight\n",
      "Day_of_Week                              \n",
      "Friday              1113    12633   84154\n",
      "Monday              1385    11664   59631\n",
      "Saturday            1326    14000   91852\n",
      "Sunday              1522    13074   74706\n",
      "Thursday            1097    12440   85974\n",
      "Tuesday             1105    11918   81527\n",
      "Wednesday           1113    12488   85957\n"
     ]
    }
   ],
   "source": [
    "accident['Day_of_Week'] = accident['Accident Date'].dt.day_name()\n",
    "df_day_severity = pd.crosstab(accident['Day_of_Week'], accident['Accident_Severity'])\n",
    "print(df_day_severity)"
   ]
  },
  {
   "cell_type": "markdown",
   "id": "3aefd8ca-663c-4e8f-9c30-adaca5b719d5",
   "metadata": {},
   "source": [
    "<h1> Insight 20</h1>\n",
    "<h2> Seasonal Trend </h2>\n",
    "<h3> The data shows a consistent increase in both the number of accidents and casualties across all seasons, with Season 4 (Winter) recording the highest totals of 176,459 accidents and 237,808 casualties. This upward trend highlights the need for targeted safety measures during this particularly risky time of the year. </h3>"
   ]
  },
  {
   "cell_type": "code",
   "execution_count": 37,
   "id": "6a232315-79a7-4cb0-96c6-cd68e7999231",
   "metadata": {},
   "outputs": [
    {
     "name": "stdout",
     "output_type": "stream",
     "text": [
      "   Season  Total_Accidents  Total_Casualties\n",
      "0       1           154199            208202\n",
      "1       2           162182            220492\n",
      "2       3           167839            230066\n",
      "3       4           176459            237808\n"
     ]
    }
   ],
   "source": [
    "accident['Season'] = accident['Accident Date'].dt.month % 12 // 3 + 1  \n",
    "df_seasonal_trends = accident.groupby('Season').agg(\n",
    "    Total_Accidents=('Accident_Severity', 'size'),\n",
    "    Total_Casualties=('Number_of_Casualties', 'sum')\n",
    ").reset_index()\n",
    "print(df_seasonal_trends)"
   ]
  },
  {
   "cell_type": "code",
   "execution_count": null,
   "id": "bf5ff70a-d0fb-413b-b749-ea7f24179480",
   "metadata": {},
   "outputs": [],
   "source": []
  },
  {
   "cell_type": "code",
   "execution_count": null,
   "id": "53d23e7b-7e0d-4560-b967-15e58602b3fc",
   "metadata": {},
   "outputs": [],
   "source": []
  }
 ],
 "metadata": {
  "kernelspec": {
   "display_name": "Python 3 (ipykernel)",
   "language": "python",
   "name": "python3"
  },
  "language_info": {
   "codemirror_mode": {
    "name": "ipython",
    "version": 3
   },
   "file_extension": ".py",
   "mimetype": "text/x-python",
   "name": "python",
   "nbconvert_exporter": "python",
   "pygments_lexer": "ipython3",
   "version": "3.13.2"
  }
 },
 "nbformat": 4,
 "nbformat_minor": 5
}
